{
 "cells": [
  {
   "cell_type": "code",
   "execution_count": 11,
   "metadata": {},
   "outputs": [
    {
     "name": "stdout",
     "output_type": "stream",
     "text": [
      "[128.53136876750008, 37.0580926428705]\n"
     ]
    }
   ],
   "source": [
    "import geo_trans\n",
    "\n",
    "lng = 128.543\n",
    "lat = 37.065\n",
    "result1 = gcj02_to_bd09(lng, lat)\n",
    "result2 = bd09_to_gcj02(lng, lat)\n",
    "result3 = wgs84_to_gcj02(lng, lat)\n",
    "result4 = gcj02_to_wgs84(lng, lat)\n",
    "result5 = bd09_to_wgs84(lng, lat)\n",
    "result6 = wgs84_to_bd09(lng, lat)\n",
    "\n",
    "print(result5)"
   ]
  }
 ],
 "metadata": {
  "kernelspec": {
   "display_name": "Python 3",
   "language": "python",
   "name": "python3"
  },
  "language_info": {
   "codemirror_mode": {
    "name": "ipython",
    "version": 3
   },
   "file_extension": ".py",
   "mimetype": "text/x-python",
   "name": "python",
   "nbconvert_exporter": "python",
   "pygments_lexer": "ipython3",
   "version": "3.6.3"
  }
 },
 "nbformat": 4,
 "nbformat_minor": 2
}
